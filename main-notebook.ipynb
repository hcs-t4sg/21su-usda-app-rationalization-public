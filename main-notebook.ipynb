{
 "cells": [
  {
   "cell_type": "code",
   "execution_count": 4,
   "metadata": {},
   "outputs": [],
   "source": [
    "import pandas as pd\n",
    "import numpy as np\n",
    "import glob\n",
    "import warnings\n",
    "warnings.filterwarnings(\"ignore\")"
   ]
  },
  {
   "cell_type": "markdown",
   "metadata": {},
   "source": [
    "# Reading/Cleaning Data"
   ]
  },
  {
   "cell_type": "code",
   "execution_count": 5,
   "metadata": {},
   "outputs": [],
   "source": [
    "# The filepath needs to be where the files are located on your device\n",
    "file_paths = glob.glob('/Users/jeremylee/Desktop/CS-Projects/T4SG/21su-usda-app-rationalization/data/*.xlsx')"
   ]
  },
  {
   "cell_type": "code",
   "execution_count": 6,
   "metadata": {},
   "outputs": [],
   "source": [
    "df = pd.DataFrame()\n",
    "for filepath in file_paths:\n",
    "    df = pd.concat([df, pd.read_excel(filepath)])"
   ]
  },
  {
   "cell_type": "code",
   "execution_count": null,
   "metadata": {},
   "outputs": [],
   "source": [
    "drop_columns = [\"AD_Site_Name0\", \"User\", \"Agency\"]\n",
    "\n",
    "df.drop(columns=drop_columns, inplace=True)"
   ]
  },
  {
   "cell_type": "code",
   "execution_count": null,
   "metadata": {},
   "outputs": [],
   "source": [
    "### Remove all the rows of data from Microsoft servers, as we’re only interested in workstations\n",
    "\n",
    "df['C054'].fillna('',inplace=True)  # replaces NaN values in column C054 with ‘’ nothing, needed for next segment of code to work\n",
    "\n",
    "index = df[df['C054'].str.lower().str.contains('server')].index # creates an index of rows containing server in the OS column (C054)\n",
    "\n",
    "df.drop(index, inplace=True)  # this deletes all rows where the word 'server' is in column C054, from prior line's index"
   ]
  },
  {
   "cell_type": "code",
   "execution_count": null,
   "metadata": {},
   "outputs": [],
   "source": [
    "### Removing GOTS applications\n",
    "\n",
    "df = df[df[\"Publisher\"].str.lower().str.contains(\"usda\") == False]"
   ]
  },
  {
   "cell_type": "markdown",
   "metadata": {},
   "source": [
    "# Filtering out utility applications"
   ]
  },
  {
   "cell_type": "code",
   "execution_count": null,
   "metadata": {},
   "outputs": [],
   "source": [
    "utility_keywords = [\"driver\", \"update\", \"compiler\", \"decompiler\", \n",
    "                    \"installer\", \"utility\", \"plugin\", \"tool\"]\n",
    "\n",
    "df[\"Application\"].fillna('',inplace=True)\n",
    "df[\"Utility\"] = 0\n",
    "for keyword in utility_keywords:\n",
    "    df.loc[df[\"Application\"].str.lower().str.contains(keyword, na=False), \"Utility\"] = 1"
   ]
  },
  {
   "cell_type": "code",
   "execution_count": null,
   "metadata": {},
   "outputs": [],
   "source": [
    "utility_publishers = [\"Intel\", \"Intel Corporation\", \"Intel(R) Corporation\",\n",
    "                      \"Advanced Micro Devices, Inc.\", \"Advanced Micro Devices Inc.\", \"AMD\",\n",
    "                      \"Dell\", \"Dell Inc.\", \"Dell, Inc.\", \"Dell Inc\"]\n",
    "\n",
    "df[\"Publisher\"].fillna('',inplace=True)\n",
    "df.loc[df.Publisher.isin(utility_publishers), \"Utility\"] = 1"
   ]
  },
  {
   "cell_type": "code",
   "execution_count": null,
   "metadata": {},
   "outputs": [],
   "source": [
    "# Microsoft and Microsoft Corporation are the same\n",
    "\n",
    "df.loc[df[\"Publisher\"] == \"Microsoft Corporation\", \"Publisher\"] = \"Microsoft\" "
   ]
  },
  {
   "cell_type": "code",
   "execution_count": null,
   "metadata": {},
   "outputs": [],
   "source": [
    "utility_list = df[df[\"Utility\"] == 1].drop(columns=\"Utility\")\n",
    "utility_list = utility_list[[\"Publisher\", \"Application\"]].drop_duplicates()\n",
    "utility_df = pd.DataFrame(utility_list)"
   ]
  },
  {
   "cell_type": "code",
   "execution_count": null,
   "metadata": {},
   "outputs": [],
   "source": [
    "counts = []\n",
    "value_counts = df.groupby(\"Application\").count()[\"System Name\"]\n",
    "for app in utility_df[\"Application\"]:\n",
    "    counts.append(value_counts[app])\n",
    "utility_df[\"Count\"] = counts\n",
    "utility_df.sort_values(by=\"Count\", ascending=False, inplace=True)"
   ]
  },
  {
   "cell_type": "code",
   "execution_count": null,
   "metadata": {},
   "outputs": [],
   "source": [
    "single_workstation_utilities = np.array(utility_df.loc[utility_df[\"Count\"] == 1, \"Application\"])\n",
    "single_utilities = df[df[\"Application\"].isin(single_workstation_utilities)][[\"System Name\", \"Publisher\", \"Application\"]]"
   ]
  },
  {
   "cell_type": "code",
   "execution_count": null,
   "metadata": {},
   "outputs": [],
   "source": [
    "single_utilities.to_csv(\"data/single_workstation_utilities.csv\")"
   ]
  },
  {
   "cell_type": "code",
   "execution_count": null,
   "metadata": {},
   "outputs": [],
   "source": [
    "utility_df.to_csv(\"data/utilities.csv\")"
   ]
  },
  {
   "cell_type": "code",
   "execution_count": null,
   "metadata": {},
   "outputs": [],
   "source": [
    "df.to_csv(\"data/flagged_utilities.csv\")"
   ]
  },
  {
   "cell_type": "markdown",
   "metadata": {},
   "source": [
    "# Categorizing Business Applications"
   ]
  },
  {
   "cell_type": "code",
   "execution_count": null,
   "metadata": {},
   "outputs": [],
   "source": [
    "main_df = df[df[\"Utility\"] == 0].drop(columns=\"Utility\")"
   ]
  },
  {
   "cell_type": "code",
   "execution_count": null,
   "metadata": {},
   "outputs": [],
   "source": [
    "unique_apps = main_df[\"Application\"].unique()"
   ]
  },
  {
   "cell_type": "markdown",
   "metadata": {},
   "source": [
    "# Getting Information on Microsoft Updates"
   ]
  },
  {
   "cell_type": "code",
   "execution_count": null,
   "metadata": {},
   "outputs": [],
   "source": [
    "microsoft_updates = utility_df.loc[utility_df[\"Application\"].str.contains(\"Update for Microsoft Office\"), \"Application\"]"
   ]
  },
  {
   "cell_type": "code",
   "execution_count": null,
   "metadata": {},
   "outputs": [],
   "source": [
    "def get_version(s):\n",
    "    for i in range(len(s) - 3):\n",
    "        if s[i:i+4].isnumeric():\n",
    "            return s[i:i+4]"
   ]
  },
  {
   "cell_type": "code",
   "execution_count": null,
   "metadata": {},
   "outputs": [],
   "source": [
    "microsoft_updates_df = pd.DataFrame()\n",
    "microsoft_updates_df[\"Application\"] = utility_df.loc[utility_df[\"Application\"].str.contains(\"Update for Microsoft Office\"), \"Application\"]\n",
    "microsoft_updates_df[\"Count\"] = utility_df.loc[utility_df[\"Application\"].str.contains(\"Update for Microsoft Office\"), \"Count\"]"
   ]
  },
  {
   "cell_type": "code",
   "execution_count": null,
   "metadata": {},
   "outputs": [],
   "source": [
    "proportion = []\n",
    "percentage = []\n",
    "\n",
    "update_count = 0\n",
    "for update in microsoft_updates:\n",
    "    workstations = df.loc[df[\"Application\"] == update, \"System Name\"]\n",
    "    count = 0\n",
    "    for workstation in workstations:\n",
    "        workstation_apps = main_df.loc[main_df[\"System Name\"] == workstation, \"Application\"]\n",
    "        office_apps = workstation_apps[workstation_apps.str.contains(\"Microsoft Office\")]\n",
    "        for app in office_apps:\n",
    "            if get_version(update) in app:\n",
    "                count += 1\n",
    "                break\n",
    "    proportion.append(str(count) + \"/\" + str(len(workstations)))\n",
    "    percentage.append(count / len(workstations))\n",
    "    update_count += 1\n",
    "    \n",
    "microsoft_updates_df[\"Proportion of Workstations with Office Installed\"] = proportion\n",
    "microsoft_updates_df[\"Percentage of Workstations with Office Installed\"] = percentage"
   ]
  },
  {
   "cell_type": "code",
   "execution_count": 159,
   "metadata": {},
   "outputs": [],
   "source": [
    "microsoft_updates_df[\"Percentage of Workstations with Office Installed\"] *= 100"
   ]
  },
  {
   "cell_type": "code",
   "execution_count": 161,
   "metadata": {},
   "outputs": [],
   "source": [
    "microsoft_updates_df.to_csv(\"microsoft_updates.csv\")"
   ]
  },
  {
   "cell_type": "markdown",
   "metadata": {},
   "source": [
    "# Getting Sample of 20 Apps for USDA to Categorize"
   ]
  },
  {
   "cell_type": "code",
   "execution_count": 167,
   "metadata": {},
   "outputs": [],
   "source": [
    "top20_apps = main_df[\"Application\"].value_counts().rename_axis('Application').reset_index(name='Count')"
   ]
  },
  {
   "cell_type": "code",
   "execution_count": 170,
   "metadata": {},
   "outputs": [],
   "source": [
    "top20_apps.head(20).to_csv(\"sample20_applications.csv\")"
   ]
  },
  {
   "cell_type": "markdown",
   "metadata": {},
   "source": [
    "# Normalizing App Names"
   ]
  },
  {
   "cell_type": "code",
   "execution_count": 21,
   "metadata": {},
   "outputs": [],
   "source": [
    "# Getting rid of versions\n",
    "\n",
    "business_apps = list(main_df.Application.unique())\n",
    "\n",
    "counts = []\n",
    "value_counts = main_df.groupby(\"Application\").count()[\"System Name\"]\n",
    "for app in business_apps:\n",
    "    counts.append(value_counts[app])\n",
    "\n",
    "normalized_df = pd.DataFrame()\n",
    "normalized_df[\"old_name\"] = business_apps\n",
    "normalized_df[\"new_name\"] = business_apps\n",
    "normalized_df[\"count\"] = counts\n",
    "\n",
    "normalized_df.sort_values(by=\"count\", ascending=False, inplace=True)"
   ]
  },
  {
   "cell_type": "code",
   "execution_count": 22,
   "metadata": {},
   "outputs": [],
   "source": [
    "def is_non_number(s):\n",
    "    if len(s) == 0:\n",
    "        return False\n",
    "    if s[0].lower() == \"v\":\n",
    "        for char in s[1:]:\n",
    "            if char.isalpha():\n",
    "                return True\n",
    "        return False\n",
    "    else:\n",
    "        for char in s:\n",
    "            if char.isalpha():\n",
    "                return True\n",
    "        return False\n",
    "\n",
    "def remove_comma(word):\n",
    "    if len(word) == 0:\n",
    "        return word\n",
    "    if word[-1] == \",\":\n",
    "        return word[:-1]\n",
    "    return word\n",
    "\n",
    "tags = [\"ARM64\", \"arm64\", \"amd64\", \"arm\", \"ARM\",\n",
    "        \"X64\", \"X86\", \"x64\", \"x86\", \"64-bit\", \"32-bit\", \"32bit\", \"64bit\"]\n",
    "\n",
    "def remove_tag_word(word):\n",
    "    new_word = word\n",
    "    for tag in tags:\n",
    "        if \"(\" + tag + \")\" in new_word:\n",
    "            new_word = new_word.replace(\"(\" + tag + \")\", \"\")\n",
    "        elif \"_\" + tag in new_word:\n",
    "            new_word = new_word.replace(\"_\" + tag, \"\")\n",
    "        elif tag in new_word:\n",
    "            new_word = word.replace(tag, \"\")\n",
    "        \n",
    "    return new_word\n",
    "\n",
    "def remove_parentheses_word(word):\n",
    "    if len(word) == 0:\n",
    "        return word\n",
    "    if (word[0] == \"(\" and \")\" not in word) or (word[-1] == \")\" and \"(\" not in word):\n",
    "        return \"\"\n",
    "    return word\n",
    "\n",
    "def remove_version_word(word):\n",
    "    if \"version\" in word.lower():\n",
    "        return False\n",
    "    return True\n",
    "\n",
    "def remove_blank_words(word):\n",
    "    return word != \"\"\n",
    "\n",
    "def normalize_name(app_name):\n",
    "    words = str(app_name).split()\n",
    "    \n",
    "    words = list(filter(is_non_number, words)) # Removing version and years\n",
    "    words = list(map(remove_comma, words)) # Removing ending commas\n",
    "    words = list(map(remove_tag_word, words)) # Removing 32 vs 64 bit\n",
    "    words = list(map(remove_parentheses_word, words)) # Removing parentheses\n",
    "    words = list(filter(remove_version_word, words)) # Removing the word \"version\"\n",
    "    words = list(filter(remove_blank_words, words)) # Removing blank words\n",
    "    \n",
    "    return \" \".join(words)\n",
    "\n",
    "normalized_df[\"new_name\"] = normalized_df.old_name.apply(normalize_name)"
   ]
  },
  {
   "cell_type": "code",
   "execution_count": 23,
   "metadata": {},
   "outputs": [],
   "source": [
    "normalized_df.to_csv(\"data/normalized_apps.csv\")"
   ]
  }
 ],
 "metadata": {
  "kernelspec": {
   "display_name": "Python 3",
   "language": "python",
   "name": "python3"
  },
  "language_info": {
   "codemirror_mode": {
    "name": "ipython",
    "version": 3
   },
   "file_extension": ".py",
   "mimetype": "text/x-python",
   "name": "python",
   "nbconvert_exporter": "python",
   "pygments_lexer": "ipython3",
   "version": "3.8.2"
  }
 },
 "nbformat": 4,
 "nbformat_minor": 4
}
